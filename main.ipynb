{
 "cells": [
  {
   "cell_type": "markdown",
   "metadata": {},
   "source": [
    "# Módulo: Python Avanzado  \n",
    "## Tarea fin de modulo  \n",
    "  \n",
    "### Descripción  \n",
    "Crear un algoritmo que genere nombres para un serie de servidores de forma aleatoria siguiendo unos parámetros.  \n",
    "Estos nombres deben ser almacenados en un Dataframe y representar los datos con una serie de graficos.  \n"
   ]
  },
  {
   "cell_type": "markdown",
   "metadata": {},
   "source": [
    "#### 1. Importar las librería necesaras"
   ]
  },
  {
   "cell_type": "code",
   "execution_count": 2,
   "metadata": {},
   "outputs": [],
   "source": [
    "import pandas as pd\n",
    "import random\n",
    "from matplotlib import pyplot as plt"
   ]
  },
  {
   "cell_type": "markdown",
   "metadata": {},
   "source": [
    "#### 2. Iniciar variables"
   ]
  },
  {
   "cell_type": "code",
   "execution_count": 3,
   "metadata": {},
   "outputs": [],
   "source": [
    "df = None\n",
    "hostnames_generados = []\n",
    "dataset = []"
   ]
  },
  {
   "cell_type": "markdown",
   "metadata": {},
   "source": [
    "#### 3. Crear una funcion generadora de hostnames  \n",
    "  \n",
    "Requerimientos:\n",
    "- Nombre de la función: set_hostnames\n",
    "- Argumentos:\n",
    "  - number_of_hosts (int): tipo integer. Representa el numero de hosts a generar.\n",
    "- El hostname generado por la funcion se debe componer de 8 caracteres alfanuméricos. Los caracteres estan definido por las carácteristicas de cada host. El algoritmo debe generarlos teniendo en cuenta una distribución especifica para cada caracteristica y atributos. A continuación se detallan, las caracteristicas (Sistema operativo, entorno, localización y nodo), la representación alfanumérica y las distribución de sus atributos correspondientes:\n",
    "    - **Sistema Operativo:** define carácter 1 del hostname.\n",
    "      - Linux: L, 40% \n",
    "      - Solaris: S, 30%\n",
    "      - Aix: A, 20%\n",
    "      - HP-UX: H, 10%\n",
    "    - **Entorno:** defina el carácter 2 del hostname.\n",
    "      - Development: D, 10%\n",
    "      - Integration: I, 10%\n",
    "      - Testing: T, 25%\n",
    "      - Staging: S, 25%\n",
    "      - Production: P, 30%\n",
    "    - **Localización:** define los caracteres 3 al 5, representan el nombre del país de localización.\n",
    "      - Norway: NOR, 6%\n",
    "      - France: FRA, 9%\n",
    "      - Italy: ITA, 16%\n",
    "      - Spain: ESP, 16%\n",
    "      - Germany: DEU, 23%\n",
    "      - Ireland: IRL, 30%\n",
    "    - **Nodo:** define los caracteres 6 al 8. Representan el numero de nodos existentes para cada combinación de SO, entorno y país. Valores incrementales desde 001 hasta 999.\n"
   ]
  },
  {
   "cell_type": "code",
   "execution_count": 4,
   "metadata": {},
   "outputs": [],
   "source": [
    "def set_hostnames(number_of_hosts:int) -> None:\n",
    "    \"\"\" Crea un número de hostnames aleatorios definido por el argumento number_of_hosts.\n",
    "    - number_of_hosts (int): Número de hostnames a generar.\n",
    "\n",
    "    La función devuelve un DataFrame con una columna llamada hostname cuyos valores son todos los hostnames generados.\n",
    "    El formato del nombre de los hostnames es el siguiente:  \n",
    "    [Sistema_operativo][Entorno][Localización][Número_de_nodo]  \n",
    "    En total el hostname constara de 8 caracacteres en el siguiente orden:\n",
    "    - Una letra para el sistema operativo. (linux = L, Solaris = S, AIX = A, HP-UX = H)\n",
    "    - Una letra para el entorno. (Desarrollo = D, Integración = I, Test = T, Producción = P, Staging = S)\n",
    "    - Tres letras para la localización. (Norway = NOR, France = FRA, Italy = ITA, Spain = ESP, Germany = DEU, Ireland = IRL)\n",
    "    - Tres numeros para el número de nodo. (001, 002, 003, ... 999)\n",
    "\n",
    "    El algoritmo genera los hostnames de forma aleatoria, pero siguiendo las distribuciones especificas.\n",
    "    \"\"\"\n",
    "    # Delcaración de las variables globales\n",
    "    global df\n",
    "    \n",
    "    # Listas ponderadas para la funcion choice de generación random de nombres de hosts\n",
    "    so_list = ['L'] * 40 + ['S'] * 30 + ['A'] * 20 + ['H'] * 10\n",
    "    env_list = ['D'] * 10 + ['I'] * 10 + ['T'] * 25 + ['S'] * 25 + ['P'] * 30\n",
    "    loc_list = ['NOR'] * 6 + ['FRA'] * 9 + ['ITA'] * 16 + ['ESP'] * 16 + ['DEU'] * 23 + ['IRL'] * 30\n",
    "    host_alpha = []\n",
    "\n",
    "    # Construimos el hostname y lo añadimos a la lista maestra\n",
    "    for i in range(number_of_hosts):\n",
    "        \n",
    "        # Generamos los 3 parametros del hostname aleatoriamente\n",
    "        so = random.choice(so_list)\n",
    "        env = random.choice(env_list)\n",
    "        loc = random.choice(loc_list)\n",
    "\n",
    "        # construimos la parte alfabetica del hostname\n",
    "        hostname = so + env + loc\n",
    "\n",
    "        # Guardamos en una lista los hosts creados\n",
    "        host_alpha.append(hostname)\n",
    "\n",
    "        # Obtenemos el número de nodo contando el numero de hosts de iguales parametros creados.\n",
    "        nodo = str(host_alpha.count(hostname)).zfill(3)\n",
    "\n",
    "        # Agregamos el numero del nodo al hostname\n",
    "        hostname = hostname + nodo\n",
    "\n",
    "        # Guardamos el hostname completo en la lista dataset\n",
    "        hostnames_generados.append(hostname)\n",
    "        "
   ]
  },
  {
   "cell_type": "markdown",
   "metadata": {},
   "source": [
    "#### 4. Funcion para obtener el SO\n",
    "\n",
    "Crear una función llamada **get_os** que reciba como argumento un **hostname** y devuelva el nombre del **sistema operativo**. En el caso de no reconoca el Sistema operativo debe retornar **\"Unknown\"**."
   ]
  },
  {
   "cell_type": "code",
   "execution_count": 5,
   "metadata": {},
   "outputs": [],
   "source": [
    "def get_os(hostname:str) -> str:\n",
    "    \"\"\" Devuelve el sistema operativo de un hostname.\n",
    "    - hostname (str): Nombre del host.\n",
    "\n",
    "    La función devuelve un string con el sistema operativo del hostname.\n",
    "    \"\"\"\n",
    "    hostname = hostname.upper()\n",
    "    so_dict = {\n",
    "        'L': 'Linux',\n",
    "        'S': 'Solaris',\n",
    "        'A': 'AIX',\n",
    "        'H': 'HP-UX'\n",
    "    }\n",
    "\n",
    "    if hostname[0] in list(so_dict.keys()):\n",
    "        return so_dict[hostname[0]]\n",
    "    else:\n",
    "        return 'Unknown'"
   ]
  },
  {
   "cell_type": "markdown",
   "metadata": {},
   "source": [
    "#### 5. Función para obtener el entorno\n",
    "\n",
    "Crear una función llamada **get_environment** que reciba como argumento un **hostname** y devuelva el nombre del entorno de ejecución. En caso de no reconocer el entorno devolverá \"Unknown\""
   ]
  },
  {
   "cell_type": "code",
   "execution_count": 6,
   "metadata": {},
   "outputs": [],
   "source": [
    "def get_environment(hostname:str) -> str:\n",
    "    \"\"\" Devuelve el entorno de ejecución de un hostname.\n",
    "    - hostname (str): Nombre del host.\n",
    "\n",
    "    La función devuelve un string con el tipo de entorno de ejecución del hostname.\n",
    "    \"\"\"\n",
    "    hostname = hostname.upper()\n",
    "    env_dict = {\n",
    "        'D': 'Development',\n",
    "        'I': 'Integration',\n",
    "        'T': 'Test',\n",
    "        'S': 'Staging',\n",
    "        'P': 'Production'\n",
    "    }\n",
    "\n",
    "    if hostname[1] in list(env_dict.keys()):\n",
    "        return env_dict[hostname[1]]\n",
    "    else:\n",
    "        return 'Unknown'\n"
   ]
  },
  {
   "cell_type": "markdown",
   "metadata": {},
   "source": [
    "#### 6. Funcion para obtener la localización\n",
    "\n",
    "Crear una función llamada **get_country** que reciba como argumento un **hostname** y devuelva el nombre del país de localización. En caso de no reconocerlo devolverá \"Unknown\""
   ]
  },
  {
   "cell_type": "code",
   "execution_count": 7,
   "metadata": {},
   "outputs": [],
   "source": [
    "def get_country(hostname:str) -> str:\n",
    "    \"\"\" Devuelve el país de localización de un hostname.\n",
    "    - hostname (str): Nombre del host.\n",
    "\n",
    "    La función devuelve un string con el país de localización del hostname.\n",
    "    \"\"\"\n",
    "    hostname = hostname.upper()\n",
    "    loc_dict = {\n",
    "        'NOR': 'Norway',\n",
    "        'FRA': 'France',\n",
    "        'ITA': 'Italy',\n",
    "        'ESP': 'Spain',\n",
    "        'DEU': 'Germany',\n",
    "        'IRL': 'Ireland'\n",
    "    }\n",
    "\n",
    "    if hostname[2:5] in list(loc_dict.keys()):\n",
    "        return loc_dict[hostname[2:5]]\n",
    "    else:\n",
    "        return 'Unknown'"
   ]
  },
  {
   "cell_type": "markdown",
   "metadata": {},
   "source": [
    "#### 7. Crear una función para generar el DataFrame.\n",
    "  \n",
    "Crear una función llamada **set_dataframe** que recibe como argumento **count** de tipo integer que representa el numero de hostnames a generar.  \n",
    "La función deberá llamar internamente a la funcion **set_hostnames** y utilizar la lista de diccionarios que esta genera como input para el dataframe.  \n",
    "La salida de la función será None, sin embargo el dataframe generado se guardará en la variable **df** inicializada anteriormente.\n"
   ]
  },
  {
   "cell_type": "code",
   "execution_count": 8,
   "metadata": {},
   "outputs": [],
   "source": [
    "def set_dataframe(count:int) -> None:\n",
    "    \"\"\" Crea un DataFrame con un número de hostnames definido por el argumento count.\n",
    "    - count (int)\n",
    "\n",
    "    La función guarda el dataframe generado en la variable global df.\n",
    "    \"\"\"\n",
    "\n",
    "    # Declaramos la variable global\n",
    "    global df\n",
    "\n",
    "    # Generamos los hostnames\n",
    "    set_hostnames(count)\n",
    "\n",
    "    for hostname in hostnames_generados:\n",
    "        dataset.append(\n",
    "            {\n",
    "                'hostname': hostname,\n",
    "                'os': get_os(hostname),\n",
    "                'environment': get_environment(hostname),\n",
    "                'country': get_country(hostname),\n",
    "                'node': int(hostname[-3:])\n",
    "            }\n",
    "        )\n",
    "\n",
    "    df = pd.DataFrame(dataset)"
   ]
  },
  {
   "cell_type": "markdown",
   "metadata": {},
   "source": [
    "#### 8. Crear el DataFrame\n",
    "  \n",
    "Invocando la funcion **set_dataframe** crear 1500 hostnames e inpeccionar el resultado."
   ]
  },
  {
   "cell_type": "code",
   "execution_count": 9,
   "metadata": {},
   "outputs": [],
   "source": [
    "set_dataframe(1500)"
   ]
  },
  {
   "cell_type": "code",
   "execution_count": 10,
   "metadata": {},
   "outputs": [
    {
     "data": {
      "text/html": [
       "<div>\n",
       "<style scoped>\n",
       "    .dataframe tbody tr th:only-of-type {\n",
       "        vertical-align: middle;\n",
       "    }\n",
       "\n",
       "    .dataframe tbody tr th {\n",
       "        vertical-align: top;\n",
       "    }\n",
       "\n",
       "    .dataframe thead th {\n",
       "        text-align: right;\n",
       "    }\n",
       "</style>\n",
       "<table border=\"1\" class=\"dataframe\">\n",
       "  <thead>\n",
       "    <tr style=\"text-align: right;\">\n",
       "      <th></th>\n",
       "      <th>hostname</th>\n",
       "      <th>os</th>\n",
       "      <th>environment</th>\n",
       "      <th>country</th>\n",
       "      <th>node</th>\n",
       "    </tr>\n",
       "  </thead>\n",
       "  <tbody>\n",
       "    <tr>\n",
       "      <th>0</th>\n",
       "      <td>HTDEU001</td>\n",
       "      <td>HP-UX</td>\n",
       "      <td>Test</td>\n",
       "      <td>Germany</td>\n",
       "      <td>1</td>\n",
       "    </tr>\n",
       "    <tr>\n",
       "      <th>1</th>\n",
       "      <td>AIIRL001</td>\n",
       "      <td>AIX</td>\n",
       "      <td>Integration</td>\n",
       "      <td>Ireland</td>\n",
       "      <td>1</td>\n",
       "    </tr>\n",
       "    <tr>\n",
       "      <th>2</th>\n",
       "      <td>SPIRL001</td>\n",
       "      <td>Solaris</td>\n",
       "      <td>Production</td>\n",
       "      <td>Ireland</td>\n",
       "      <td>1</td>\n",
       "    </tr>\n",
       "    <tr>\n",
       "      <th>3</th>\n",
       "      <td>LSITA001</td>\n",
       "      <td>Linux</td>\n",
       "      <td>Staging</td>\n",
       "      <td>Italy</td>\n",
       "      <td>1</td>\n",
       "    </tr>\n",
       "    <tr>\n",
       "      <th>4</th>\n",
       "      <td>SPITA001</td>\n",
       "      <td>Solaris</td>\n",
       "      <td>Production</td>\n",
       "      <td>Italy</td>\n",
       "      <td>1</td>\n",
       "    </tr>\n",
       "  </tbody>\n",
       "</table>\n",
       "</div>"
      ],
      "text/plain": [
       "   hostname       os  environment  country  node\n",
       "0  HTDEU001    HP-UX         Test  Germany     1\n",
       "1  AIIRL001      AIX  Integration  Ireland     1\n",
       "2  SPIRL001  Solaris   Production  Ireland     1\n",
       "3  LSITA001    Linux      Staging    Italy     1\n",
       "4  SPITA001  Solaris   Production    Italy     1"
      ]
     },
     "execution_count": 10,
     "metadata": {},
     "output_type": "execute_result"
    }
   ],
   "source": [
    "# Exploramos los primeros 5 valores\n",
    "df.head()"
   ]
  },
  {
   "cell_type": "code",
   "execution_count": 11,
   "metadata": {},
   "outputs": [
    {
     "data": {
      "text/plain": [
       "os     \n",
       "Linux      586\n",
       "Solaris    432\n",
       "AIX        322\n",
       "HP-UX      160\n",
       "Name: count, dtype: int64"
      ]
     },
     "execution_count": 11,
     "metadata": {},
     "output_type": "execute_result"
    }
   ],
   "source": [
    "# Recuento de valores del SO\n",
    "df.value_counts(['os'])"
   ]
  },
  {
   "cell_type": "code",
   "execution_count": 12,
   "metadata": {},
   "outputs": [
    {
     "data": {
      "text/plain": [
       "environment\n",
       "Production     455\n",
       "Staging        367\n",
       "Test           352\n",
       "Development    168\n",
       "Integration    158\n",
       "Name: count, dtype: int64"
      ]
     },
     "execution_count": 12,
     "metadata": {},
     "output_type": "execute_result"
    }
   ],
   "source": [
    "# Recuento de valores de entorno\n",
    "df.value_counts(['environment'])"
   ]
  },
  {
   "cell_type": "code",
   "execution_count": 13,
   "metadata": {},
   "outputs": [
    {
     "data": {
      "text/plain": [
       "country\n",
       "Ireland    447\n",
       "Germany    349\n",
       "Italy      244\n",
       "Spain      236\n",
       "France     139\n",
       "Norway      85\n",
       "Name: count, dtype: int64"
      ]
     },
     "execution_count": 13,
     "metadata": {},
     "output_type": "execute_result"
    }
   ],
   "source": [
    "# Recuento de valores de país\n",
    "df.value_counts(['country'])"
   ]
  },
  {
   "cell_type": "markdown",
   "metadata": {},
   "source": [
    "#### 9. Guardar el DataFrame generado en un fichero CSV\n",
    "  \n",
    "Guardar el dataframe en un archivo csv llamado **hosts.csv** en la misma carpeta.  \n",
    "Este documento debe incluir las cabeceras y excluir el index.  \n",
    "Verificar el corecto guardado de los datos, leyendo el csv y cargandolo en otro dataframe llamado **hosts_df**."
   ]
  },
  {
   "cell_type": "code",
   "execution_count": 14,
   "metadata": {},
   "outputs": [],
   "source": [
    "# Guardamos el dataframe en un archivo CSV\n",
    "df.to_csv('hosts.csv', header=True, index=False)"
   ]
  },
  {
   "cell_type": "code",
   "execution_count": 15,
   "metadata": {},
   "outputs": [
    {
     "data": {
      "text/html": [
       "<div>\n",
       "<style scoped>\n",
       "    .dataframe tbody tr th:only-of-type {\n",
       "        vertical-align: middle;\n",
       "    }\n",
       "\n",
       "    .dataframe tbody tr th {\n",
       "        vertical-align: top;\n",
       "    }\n",
       "\n",
       "    .dataframe thead th {\n",
       "        text-align: right;\n",
       "    }\n",
       "</style>\n",
       "<table border=\"1\" class=\"dataframe\">\n",
       "  <thead>\n",
       "    <tr style=\"text-align: right;\">\n",
       "      <th></th>\n",
       "      <th>hostname</th>\n",
       "      <th>os</th>\n",
       "      <th>environment</th>\n",
       "      <th>country</th>\n",
       "      <th>node</th>\n",
       "    </tr>\n",
       "  </thead>\n",
       "  <tbody>\n",
       "    <tr>\n",
       "      <th>0</th>\n",
       "      <td>HTDEU001</td>\n",
       "      <td>HP-UX</td>\n",
       "      <td>Test</td>\n",
       "      <td>Germany</td>\n",
       "      <td>1</td>\n",
       "    </tr>\n",
       "    <tr>\n",
       "      <th>1</th>\n",
       "      <td>AIIRL001</td>\n",
       "      <td>AIX</td>\n",
       "      <td>Integration</td>\n",
       "      <td>Ireland</td>\n",
       "      <td>1</td>\n",
       "    </tr>\n",
       "    <tr>\n",
       "      <th>2</th>\n",
       "      <td>SPIRL001</td>\n",
       "      <td>Solaris</td>\n",
       "      <td>Production</td>\n",
       "      <td>Ireland</td>\n",
       "      <td>1</td>\n",
       "    </tr>\n",
       "    <tr>\n",
       "      <th>3</th>\n",
       "      <td>LSITA001</td>\n",
       "      <td>Linux</td>\n",
       "      <td>Staging</td>\n",
       "      <td>Italy</td>\n",
       "      <td>1</td>\n",
       "    </tr>\n",
       "    <tr>\n",
       "      <th>4</th>\n",
       "      <td>SPITA001</td>\n",
       "      <td>Solaris</td>\n",
       "      <td>Production</td>\n",
       "      <td>Italy</td>\n",
       "      <td>1</td>\n",
       "    </tr>\n",
       "  </tbody>\n",
       "</table>\n",
       "</div>"
      ],
      "text/plain": [
       "   hostname       os  environment  country  node\n",
       "0  HTDEU001    HP-UX         Test  Germany     1\n",
       "1  AIIRL001      AIX  Integration  Ireland     1\n",
       "2  SPIRL001  Solaris   Production  Ireland     1\n",
       "3  LSITA001    Linux      Staging    Italy     1\n",
       "4  SPITA001  Solaris   Production    Italy     1"
      ]
     },
     "execution_count": 15,
     "metadata": {},
     "output_type": "execute_result"
    }
   ],
   "source": [
    "# Leemos y cargamos el csv en otro dataframe\n",
    "hosts_df = pd.read_csv('hosts.csv')\n",
    "hosts_df.head()"
   ]
  },
  {
   "cell_type": "markdown",
   "metadata": {},
   "source": [
    "#### 10. Generar un único gráfico, agrupando para cada país (country) los entornos (enviroment)"
   ]
  },
  {
   "cell_type": "code",
   "execution_count": 16,
   "metadata": {},
   "outputs": [
    {
     "data": {
      "text/plain": [
       "<Axes: xlabel='country'>"
      ]
     },
     "execution_count": 16,
     "metadata": {},
     "output_type": "execute_result"
    },
    {
     "data": {
      "image/png": "[encoded data removed]",
      "text/plain": [
       "<Figure size 640x480 with 1 Axes>"
      ]
     },
     "metadata": {},
     "output_type": "display_data"
    }
   ],
   "source": [
    "hosts_df[['country', 'environment']].value_counts().unstack().plot(kind='bar')"
   ]
  },
  {
   "cell_type": "markdown",
   "metadata": {},
   "source": [
    "#### 11. Crear una figura con 4 gráficos en una malla de 2 filas y 2 columnas"
   ]
  }
 ],
 "metadata": {
  "kernelspec": {
   "display_name": "ucm",
   "language": "python",
   "name": "python3"
  },
  "language_info": {
   "codemirror_mode": {
    "name": "ipython",
    "version": 3
   },
   "file_extension": ".py",
   "mimetype": "text/x-python",
   "name": "python",
   "nbconvert_exporter": "python",
   "pygments_lexer": "ipython3",
   "version": "3.12.7"
  }
 },
 "nbformat": 4,
 "nbformat_minor": 2
}
